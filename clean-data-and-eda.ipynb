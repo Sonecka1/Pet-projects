{
 "cells": [
  {
   "cell_type": "code",
   "execution_count": 1,
   "id": "0d12e31e",
   "metadata": {
    "_cell_guid": "b1076dfc-b9ad-4769-8c92-a6c4dae69d19",
    "_uuid": "8f2839f25d086af736a60e9eeb907d3b93b6e0e5",
    "execution": {
     "iopub.execute_input": "2025-07-30T20:12:04.426316Z",
     "iopub.status.busy": "2025-07-30T20:12:04.425847Z",
     "iopub.status.idle": "2025-07-30T20:12:06.772714Z",
     "shell.execute_reply": "2025-07-30T20:12:06.771119Z"
    },
    "papermill": {
     "duration": 2.367062,
     "end_time": "2025-07-30T20:12:06.774614",
     "exception": false,
     "start_time": "2025-07-30T20:12:04.407552",
     "status": "completed"
    },
    "tags": []
   },
   "outputs": [
    {
     "name": "stdout",
     "output_type": "stream",
     "text": [
      "/kaggle/input/cafe-sales-dirty-data-for-cleaning-training/dirty_cafe_sales.csv\n"
     ]
    }
   ],
   "source": [
    "# This Python 3 environment comes with many helpful analytics libraries installed\n",
    "# It is defined by the kaggle/python Docker image: https://github.com/kaggle/docker-python\n",
    "# For example, here's several helpful packages to load\n",
    "\n",
    "import numpy as np # linear algebra\n",
    "import pandas as pd # data processing, CSV file I/O (e.g. pd.read_csv)\n",
    "\n",
    "# Input data files are available in the read-only \"../input/\" directory\n",
    "# For example, running this (by clicking run or pressing Shift+Enter) will list all files under the input directory\n",
    "\n",
    "import os\n",
    "for dirname, _, filenames in os.walk('/kaggle/input'):\n",
    "    for filename in filenames:\n",
    "        print(os.path.join(dirname, filename))\n",
    "\n",
    "# You can write up to 20GB to the current directory (/kaggle/working/) that gets preserved as output when you create a version using \"Save & Run All\" \n",
    "# You can also write temporary files to /kaggle/temp/, but they won't be saved outside of the current session"
   ]
  },
  {
   "cell_type": "code",
   "execution_count": 2,
   "id": "67605e3a",
   "metadata": {
    "execution": {
     "iopub.execute_input": "2025-07-30T20:12:06.790908Z",
     "iopub.status.busy": "2025-07-30T20:12:06.790459Z",
     "iopub.status.idle": "2025-07-30T20:12:06.842945Z",
     "shell.execute_reply": "2025-07-30T20:12:06.841995Z"
    },
    "papermill": {
     "duration": 0.062987,
     "end_time": "2025-07-30T20:12:06.845267",
     "exception": false,
     "start_time": "2025-07-30T20:12:06.782280",
     "status": "completed"
    },
    "tags": []
   },
   "outputs": [],
   "source": [
    "file_path = '/kaggle/input/cafe-sales-dirty-data-for-cleaning-training/dirty_cafe_sales.csv'\n",
    "data = pd.read_csv(file_path)"
   ]
  },
  {
   "cell_type": "code",
   "execution_count": 3,
   "id": "bf857881",
   "metadata": {
    "execution": {
     "iopub.execute_input": "2025-07-30T20:12:06.861297Z",
     "iopub.status.busy": "2025-07-30T20:12:06.860883Z",
     "iopub.status.idle": "2025-07-30T20:12:09.302454Z",
     "shell.execute_reply": "2025-07-30T20:12:09.300793Z"
    },
    "papermill": {
     "duration": 2.451709,
     "end_time": "2025-07-30T20:12:09.304334",
     "exception": false,
     "start_time": "2025-07-30T20:12:06.852625",
     "status": "completed"
    },
    "tags": []
   },
   "outputs": [],
   "source": [
    "import pandas as pd\n",
    "import numpy as np\n",
    "import matplotlib.pyplot as plt\n",
    "import seaborn as sns"
   ]
  },
  {
   "cell_type": "markdown",
   "id": "33d8500e",
   "metadata": {
    "papermill": {
     "duration": 0.007519,
     "end_time": "2025-07-30T20:12:09.319362",
     "exception": false,
     "start_time": "2025-07-30T20:12:09.311843",
     "status": "completed"
    },
    "tags": []
   },
   "source": [
    "## 1. Look at the data"
   ]
  },
  {
   "cell_type": "code",
   "execution_count": 4,
   "id": "cf317652",
   "metadata": {
    "execution": {
     "iopub.execute_input": "2025-07-30T20:12:09.333953Z",
     "iopub.status.busy": "2025-07-30T20:12:09.333495Z",
     "iopub.status.idle": "2025-07-30T20:12:09.364332Z",
     "shell.execute_reply": "2025-07-30T20:12:09.363245Z"
    },
    "papermill": {
     "duration": 0.040902,
     "end_time": "2025-07-30T20:12:09.366846",
     "exception": false,
     "start_time": "2025-07-30T20:12:09.325944",
     "status": "completed"
    },
    "tags": []
   },
   "outputs": [
    {
     "data": {
      "text/html": [
       "<div>\n",
       "<style scoped>\n",
       "    .dataframe tbody tr th:only-of-type {\n",
       "        vertical-align: middle;\n",
       "    }\n",
       "\n",
       "    .dataframe tbody tr th {\n",
       "        vertical-align: top;\n",
       "    }\n",
       "\n",
       "    .dataframe thead th {\n",
       "        text-align: right;\n",
       "    }\n",
       "</style>\n",
       "<table border=\"1\" class=\"dataframe\">\n",
       "  <thead>\n",
       "    <tr style=\"text-align: right;\">\n",
       "      <th></th>\n",
       "      <th>Transaction ID</th>\n",
       "      <th>Item</th>\n",
       "      <th>Quantity</th>\n",
       "      <th>Price Per Unit</th>\n",
       "      <th>Total Spent</th>\n",
       "      <th>Payment Method</th>\n",
       "      <th>Location</th>\n",
       "      <th>Transaction Date</th>\n",
       "    </tr>\n",
       "  </thead>\n",
       "  <tbody>\n",
       "    <tr>\n",
       "      <th>0</th>\n",
       "      <td>TXN_1961373</td>\n",
       "      <td>Coffee</td>\n",
       "      <td>2</td>\n",
       "      <td>2.0</td>\n",
       "      <td>4.0</td>\n",
       "      <td>Credit Card</td>\n",
       "      <td>Takeaway</td>\n",
       "      <td>2023-09-08</td>\n",
       "    </tr>\n",
       "    <tr>\n",
       "      <th>1</th>\n",
       "      <td>TXN_4977031</td>\n",
       "      <td>Cake</td>\n",
       "      <td>4</td>\n",
       "      <td>3.0</td>\n",
       "      <td>12.0</td>\n",
       "      <td>Cash</td>\n",
       "      <td>In-store</td>\n",
       "      <td>2023-05-16</td>\n",
       "    </tr>\n",
       "    <tr>\n",
       "      <th>2</th>\n",
       "      <td>TXN_4271903</td>\n",
       "      <td>Cookie</td>\n",
       "      <td>4</td>\n",
       "      <td>1.0</td>\n",
       "      <td>ERROR</td>\n",
       "      <td>Credit Card</td>\n",
       "      <td>In-store</td>\n",
       "      <td>2023-07-19</td>\n",
       "    </tr>\n",
       "    <tr>\n",
       "      <th>3</th>\n",
       "      <td>TXN_7034554</td>\n",
       "      <td>Salad</td>\n",
       "      <td>2</td>\n",
       "      <td>5.0</td>\n",
       "      <td>10.0</td>\n",
       "      <td>UNKNOWN</td>\n",
       "      <td>UNKNOWN</td>\n",
       "      <td>2023-04-27</td>\n",
       "    </tr>\n",
       "    <tr>\n",
       "      <th>4</th>\n",
       "      <td>TXN_3160411</td>\n",
       "      <td>Coffee</td>\n",
       "      <td>2</td>\n",
       "      <td>2.0</td>\n",
       "      <td>4.0</td>\n",
       "      <td>Digital Wallet</td>\n",
       "      <td>In-store</td>\n",
       "      <td>2023-06-11</td>\n",
       "    </tr>\n",
       "  </tbody>\n",
       "</table>\n",
       "</div>"
      ],
      "text/plain": [
       "  Transaction ID    Item Quantity Price Per Unit Total Spent  Payment Method  \\\n",
       "0    TXN_1961373  Coffee        2            2.0         4.0     Credit Card   \n",
       "1    TXN_4977031    Cake        4            3.0        12.0            Cash   \n",
       "2    TXN_4271903  Cookie        4            1.0       ERROR     Credit Card   \n",
       "3    TXN_7034554   Salad        2            5.0        10.0         UNKNOWN   \n",
       "4    TXN_3160411  Coffee        2            2.0         4.0  Digital Wallet   \n",
       "\n",
       "   Location Transaction Date  \n",
       "0  Takeaway       2023-09-08  \n",
       "1  In-store       2023-05-16  \n",
       "2  In-store       2023-07-19  \n",
       "3   UNKNOWN       2023-04-27  \n",
       "4  In-store       2023-06-11  "
      ]
     },
     "execution_count": 4,
     "metadata": {},
     "output_type": "execute_result"
    }
   ],
   "source": [
    "data.head()"
   ]
  },
  {
   "cell_type": "code",
   "execution_count": 5,
   "id": "08432a86",
   "metadata": {
    "execution": {
     "iopub.execute_input": "2025-07-30T20:12:09.383706Z",
     "iopub.status.busy": "2025-07-30T20:12:09.383312Z",
     "iopub.status.idle": "2025-07-30T20:12:09.392109Z",
     "shell.execute_reply": "2025-07-30T20:12:09.390481Z"
    },
    "papermill": {
     "duration": 0.019925,
     "end_time": "2025-07-30T20:12:09.394154",
     "exception": false,
     "start_time": "2025-07-30T20:12:09.374229",
     "status": "completed"
    },
    "tags": []
   },
   "outputs": [
    {
     "data": {
      "text/plain": [
       "(10000, 8)"
      ]
     },
     "execution_count": 5,
     "metadata": {},
     "output_type": "execute_result"
    }
   ],
   "source": [
    "data.shape"
   ]
  },
  {
   "cell_type": "code",
   "execution_count": 6,
   "id": "42f97147",
   "metadata": {
    "execution": {
     "iopub.execute_input": "2025-07-30T20:12:09.411256Z",
     "iopub.status.busy": "2025-07-30T20:12:09.410824Z",
     "iopub.status.idle": "2025-07-30T20:12:09.444192Z",
     "shell.execute_reply": "2025-07-30T20:12:09.443063Z"
    },
    "papermill": {
     "duration": 0.04294,
     "end_time": "2025-07-30T20:12:09.445812",
     "exception": false,
     "start_time": "2025-07-30T20:12:09.402872",
     "status": "completed"
    },
    "tags": []
   },
   "outputs": [
    {
     "name": "stdout",
     "output_type": "stream",
     "text": [
      "<class 'pandas.core.frame.DataFrame'>\n",
      "RangeIndex: 10000 entries, 0 to 9999\n",
      "Data columns (total 8 columns):\n",
      " #   Column            Non-Null Count  Dtype \n",
      "---  ------            --------------  ----- \n",
      " 0   Transaction ID    10000 non-null  object\n",
      " 1   Item              9667 non-null   object\n",
      " 2   Quantity          9862 non-null   object\n",
      " 3   Price Per Unit    9821 non-null   object\n",
      " 4   Total Spent       9827 non-null   object\n",
      " 5   Payment Method    7421 non-null   object\n",
      " 6   Location          6735 non-null   object\n",
      " 7   Transaction Date  9841 non-null   object\n",
      "dtypes: object(8)\n",
      "memory usage: 625.1+ KB\n"
     ]
    }
   ],
   "source": [
    "data.info()"
   ]
  },
  {
   "cell_type": "code",
   "execution_count": 7,
   "id": "e4a7d03a",
   "metadata": {
    "execution": {
     "iopub.execute_input": "2025-07-30T20:12:09.462916Z",
     "iopub.status.busy": "2025-07-30T20:12:09.462479Z",
     "iopub.status.idle": "2025-07-30T20:12:09.499017Z",
     "shell.execute_reply": "2025-07-30T20:12:09.497986Z"
    },
    "papermill": {
     "duration": 0.047943,
     "end_time": "2025-07-30T20:12:09.501015",
     "exception": false,
     "start_time": "2025-07-30T20:12:09.453072",
     "status": "completed"
    },
    "tags": []
   },
   "outputs": [
    {
     "data": {
      "text/html": [
       "<div>\n",
       "<style scoped>\n",
       "    .dataframe tbody tr th:only-of-type {\n",
       "        vertical-align: middle;\n",
       "    }\n",
       "\n",
       "    .dataframe tbody tr th {\n",
       "        vertical-align: top;\n",
       "    }\n",
       "\n",
       "    .dataframe thead th {\n",
       "        text-align: right;\n",
       "    }\n",
       "</style>\n",
       "<table border=\"1\" class=\"dataframe\">\n",
       "  <thead>\n",
       "    <tr style=\"text-align: right;\">\n",
       "      <th></th>\n",
       "      <th>Transaction ID</th>\n",
       "      <th>Item</th>\n",
       "      <th>Quantity</th>\n",
       "      <th>Price Per Unit</th>\n",
       "      <th>Total Spent</th>\n",
       "      <th>Payment Method</th>\n",
       "      <th>Location</th>\n",
       "      <th>Transaction Date</th>\n",
       "    </tr>\n",
       "  </thead>\n",
       "  <tbody>\n",
       "    <tr>\n",
       "      <th>count</th>\n",
       "      <td>10000</td>\n",
       "      <td>9667</td>\n",
       "      <td>9862</td>\n",
       "      <td>9821</td>\n",
       "      <td>9827</td>\n",
       "      <td>7421</td>\n",
       "      <td>6735</td>\n",
       "      <td>9841</td>\n",
       "    </tr>\n",
       "    <tr>\n",
       "      <th>unique</th>\n",
       "      <td>10000</td>\n",
       "      <td>10</td>\n",
       "      <td>7</td>\n",
       "      <td>8</td>\n",
       "      <td>19</td>\n",
       "      <td>5</td>\n",
       "      <td>4</td>\n",
       "      <td>367</td>\n",
       "    </tr>\n",
       "    <tr>\n",
       "      <th>top</th>\n",
       "      <td>TXN_1961373</td>\n",
       "      <td>Juice</td>\n",
       "      <td>5</td>\n",
       "      <td>3.0</td>\n",
       "      <td>6.0</td>\n",
       "      <td>Digital Wallet</td>\n",
       "      <td>Takeaway</td>\n",
       "      <td>UNKNOWN</td>\n",
       "    </tr>\n",
       "    <tr>\n",
       "      <th>freq</th>\n",
       "      <td>1</td>\n",
       "      <td>1171</td>\n",
       "      <td>2013</td>\n",
       "      <td>2429</td>\n",
       "      <td>979</td>\n",
       "      <td>2291</td>\n",
       "      <td>3022</td>\n",
       "      <td>159</td>\n",
       "    </tr>\n",
       "  </tbody>\n",
       "</table>\n",
       "</div>"
      ],
      "text/plain": [
       "       Transaction ID   Item Quantity Price Per Unit Total Spent  \\\n",
       "count           10000   9667     9862           9821        9827   \n",
       "unique          10000     10        7              8          19   \n",
       "top       TXN_1961373  Juice        5            3.0         6.0   \n",
       "freq                1   1171     2013           2429         979   \n",
       "\n",
       "        Payment Method  Location Transaction Date  \n",
       "count             7421      6735             9841  \n",
       "unique               5         4              367  \n",
       "top     Digital Wallet  Takeaway          UNKNOWN  \n",
       "freq              2291      3022              159  "
      ]
     },
     "execution_count": 7,
     "metadata": {},
     "output_type": "execute_result"
    }
   ],
   "source": [
    "data.describe()"
   ]
  },
  {
   "cell_type": "code",
   "execution_count": 8,
   "id": "228e05ac",
   "metadata": {
    "execution": {
     "iopub.execute_input": "2025-07-30T20:12:09.516376Z",
     "iopub.status.busy": "2025-07-30T20:12:09.516005Z",
     "iopub.status.idle": "2025-07-30T20:12:09.523985Z",
     "shell.execute_reply": "2025-07-30T20:12:09.523071Z"
    },
    "papermill": {
     "duration": 0.017883,
     "end_time": "2025-07-30T20:12:09.525960",
     "exception": false,
     "start_time": "2025-07-30T20:12:09.508077",
     "status": "completed"
    },
    "tags": []
   },
   "outputs": [
    {
     "data": {
      "text/plain": [
       "Transaction ID      object\n",
       "Item                object\n",
       "Quantity            object\n",
       "Price Per Unit      object\n",
       "Total Spent         object\n",
       "Payment Method      object\n",
       "Location            object\n",
       "Transaction Date    object\n",
       "dtype: object"
      ]
     },
     "execution_count": 8,
     "metadata": {},
     "output_type": "execute_result"
    }
   ],
   "source": [
    "data.dtypes"
   ]
  },
  {
   "cell_type": "code",
   "execution_count": 9,
   "id": "3098cfb9",
   "metadata": {
    "execution": {
     "iopub.execute_input": "2025-07-30T20:12:09.543339Z",
     "iopub.status.busy": "2025-07-30T20:12:09.542993Z",
     "iopub.status.idle": "2025-07-30T20:12:09.552334Z",
     "shell.execute_reply": "2025-07-30T20:12:09.551410Z"
    },
    "papermill": {
     "duration": 0.019788,
     "end_time": "2025-07-30T20:12:09.554370",
     "exception": false,
     "start_time": "2025-07-30T20:12:09.534582",
     "status": "completed"
    },
    "tags": []
   },
   "outputs": [],
   "source": [
    "data = data.drop(columns=['Transaction ID'])\n",
    "data.columns = data.columns.str.lower()"
   ]
  },
  {
   "cell_type": "code",
   "execution_count": 10,
   "id": "cb30aed8",
   "metadata": {
    "execution": {
     "iopub.execute_input": "2025-07-30T20:12:09.571738Z",
     "iopub.status.busy": "2025-07-30T20:12:09.571426Z",
     "iopub.status.idle": "2025-07-30T20:12:09.584036Z",
     "shell.execute_reply": "2025-07-30T20:12:09.582754Z"
    },
    "papermill": {
     "duration": 0.022958,
     "end_time": "2025-07-30T20:12:09.586079",
     "exception": false,
     "start_time": "2025-07-30T20:12:09.563121",
     "status": "completed"
    },
    "tags": []
   },
   "outputs": [
    {
     "data": {
      "text/plain": [
       "item\n",
       "Juice       1171\n",
       "Coffee      1165\n",
       "Salad       1148\n",
       "Cake        1139\n",
       "Sandwich    1131\n",
       "Smoothie    1096\n",
       "Cookie      1092\n",
       "Tea         1089\n",
       "UNKNOWN      344\n",
       "ERROR        292\n",
       "Name: count, dtype: int64"
      ]
     },
     "execution_count": 10,
     "metadata": {},
     "output_type": "execute_result"
    }
   ],
   "source": [
    "data['item'].value_counts()"
   ]
  },
  {
   "cell_type": "code",
   "execution_count": 11,
   "id": "07464231",
   "metadata": {
    "execution": {
     "iopub.execute_input": "2025-07-30T20:12:09.604040Z",
     "iopub.status.busy": "2025-07-30T20:12:09.603085Z",
     "iopub.status.idle": "2025-07-30T20:12:09.617866Z",
     "shell.execute_reply": "2025-07-30T20:12:09.616522Z"
    },
    "papermill": {
     "duration": 0.026744,
     "end_time": "2025-07-30T20:12:09.621048",
     "exception": false,
     "start_time": "2025-07-30T20:12:09.594304",
     "status": "completed"
    },
    "tags": []
   },
   "outputs": [],
   "source": [
    "data = data[~data['item'].isin(['ERROR'])]\n",
    "data['item'] = data['item'].replace('UNKNOWN', pd.NA)\n",
    "data['item'] = data['item'].replace('NaN', pd.NA)"
   ]
  },
  {
   "cell_type": "code",
   "execution_count": 12,
   "id": "64bb29cf",
   "metadata": {
    "execution": {
     "iopub.execute_input": "2025-07-30T20:12:09.637546Z",
     "iopub.status.busy": "2025-07-30T20:12:09.637231Z",
     "iopub.status.idle": "2025-07-30T20:12:09.646080Z",
     "shell.execute_reply": "2025-07-30T20:12:09.645086Z"
    },
    "papermill": {
     "duration": 0.019681,
     "end_time": "2025-07-30T20:12:09.648001",
     "exception": false,
     "start_time": "2025-07-30T20:12:09.628320",
     "status": "completed"
    },
    "tags": []
   },
   "outputs": [
    {
     "data": {
      "text/plain": [
       "quantity\n",
       "5          1950\n",
       "2          1916\n",
       "4          1812\n",
       "3          1795\n",
       "1          1774\n",
       "UNKNOWN     166\n",
       "ERROR       162\n",
       "Name: count, dtype: int64"
      ]
     },
     "execution_count": 12,
     "metadata": {},
     "output_type": "execute_result"
    }
   ],
   "source": [
    "data['quantity'].value_counts()"
   ]
  },
  {
   "cell_type": "code",
   "execution_count": 13,
   "id": "85ad3861",
   "metadata": {
    "execution": {
     "iopub.execute_input": "2025-07-30T20:12:09.665398Z",
     "iopub.status.busy": "2025-07-30T20:12:09.664975Z",
     "iopub.status.idle": "2025-07-30T20:12:09.674638Z",
     "shell.execute_reply": "2025-07-30T20:12:09.673728Z"
    },
    "papermill": {
     "duration": 0.020755,
     "end_time": "2025-07-30T20:12:09.676232",
     "exception": false,
     "start_time": "2025-07-30T20:12:09.655477",
     "status": "completed"
    },
    "tags": []
   },
   "outputs": [],
   "source": [
    "data = data[~data['quantity'].isin(['ERROR'])]\n",
    "data['quantity'] = data['quantity'].replace('UNKNOWN', pd.NA)"
   ]
  },
  {
   "cell_type": "code",
   "execution_count": 14,
   "id": "d020cb41",
   "metadata": {
    "_kg_hide-input": true,
    "execution": {
     "iopub.execute_input": "2025-07-30T20:12:09.695646Z",
     "iopub.status.busy": "2025-07-30T20:12:09.695292Z",
     "iopub.status.idle": "2025-07-30T20:12:09.703629Z",
     "shell.execute_reply": "2025-07-30T20:12:09.702777Z"
    },
    "papermill": {
     "duration": 0.020484,
     "end_time": "2025-07-30T20:12:09.705403",
     "exception": false,
     "start_time": "2025-07-30T20:12:09.684919",
     "status": "completed"
    },
    "tags": []
   },
   "outputs": [
    {
     "data": {
      "text/plain": [
       "price per unit\n",
       "3.0        2318\n",
       "4.0        2232\n",
       "2.0        1172\n",
       "5.0        1141\n",
       "1.0        1091\n",
       "1.5        1078\n",
       "ERROR       186\n",
       "UNKNOWN     159\n",
       "Name: count, dtype: int64"
      ]
     },
     "execution_count": 14,
     "metadata": {},
     "output_type": "execute_result"
    }
   ],
   "source": [
    "data['price per unit'].value_counts()"
   ]
  },
  {
   "cell_type": "code",
   "execution_count": 15,
   "id": "d51c9d3e",
   "metadata": {
    "execution": {
     "iopub.execute_input": "2025-07-30T20:12:09.723727Z",
     "iopub.status.busy": "2025-07-30T20:12:09.723358Z",
     "iopub.status.idle": "2025-07-30T20:12:09.734327Z",
     "shell.execute_reply": "2025-07-30T20:12:09.733131Z"
    },
    "papermill": {
     "duration": 0.02205,
     "end_time": "2025-07-30T20:12:09.736368",
     "exception": false,
     "start_time": "2025-07-30T20:12:09.714318",
     "status": "completed"
    },
    "tags": []
   },
   "outputs": [],
   "source": [
    "data = data[~data['price per unit'].isin(['ERROR'])]\n",
    "data['price per unit'] = data['price per unit'].replace('UNKNOWN', pd.NA)"
   ]
  },
  {
   "cell_type": "code",
   "execution_count": 16,
   "id": "7368b50a",
   "metadata": {
    "execution": {
     "iopub.execute_input": "2025-07-30T20:12:09.756846Z",
     "iopub.status.busy": "2025-07-30T20:12:09.756498Z",
     "iopub.status.idle": "2025-07-30T20:12:09.769495Z",
     "shell.execute_reply": "2025-07-30T20:12:09.768383Z"
    },
    "papermill": {
     "duration": 0.025005,
     "end_time": "2025-07-30T20:12:09.771371",
     "exception": false,
     "start_time": "2025-07-30T20:12:09.746366",
     "status": "completed"
    },
    "tags": []
   },
   "outputs": [
    {
     "data": {
      "text/plain": [
       "total spent\n",
       "6.0        916\n",
       "12.0       888\n",
       "3.0        870\n",
       "4.0        869\n",
       "20.0       697\n",
       "15.0       684\n",
       "8.0        637\n",
       "10.0       491\n",
       "2.0        466\n",
       "9.0        444\n",
       "5.0        432\n",
       "16.0       420\n",
       "25.0       236\n",
       "1.0        216\n",
       "7.5        215\n",
       "4.5        211\n",
       "1.5        195\n",
       "ERROR      155\n",
       "UNKNOWN    152\n",
       "Name: count, dtype: int64"
      ]
     },
     "execution_count": 16,
     "metadata": {},
     "output_type": "execute_result"
    }
   ],
   "source": [
    "data['total spent'].value_counts()"
   ]
  },
  {
   "cell_type": "code",
   "execution_count": 17,
   "id": "bee0af26",
   "metadata": {
    "execution": {
     "iopub.execute_input": "2025-07-30T20:12:09.789850Z",
     "iopub.status.busy": "2025-07-30T20:12:09.789548Z",
     "iopub.status.idle": "2025-07-30T20:12:09.800082Z",
     "shell.execute_reply": "2025-07-30T20:12:09.798977Z"
    },
    "papermill": {
     "duration": 0.021212,
     "end_time": "2025-07-30T20:12:09.801712",
     "exception": false,
     "start_time": "2025-07-30T20:12:09.780500",
     "status": "completed"
    },
    "tags": []
   },
   "outputs": [],
   "source": [
    "data = data[~data['total spent'].isin(['ERROR'])]\n",
    "data['total spent'] = data['total spent'].replace('UNKNOWN', pd.NA)"
   ]
  },
  {
   "cell_type": "code",
   "execution_count": 18,
   "id": "10953f7d",
   "metadata": {
    "execution": {
     "iopub.execute_input": "2025-07-30T20:12:09.819341Z",
     "iopub.status.busy": "2025-07-30T20:12:09.818982Z",
     "iopub.status.idle": "2025-07-30T20:12:09.828487Z",
     "shell.execute_reply": "2025-07-30T20:12:09.826860Z"
    },
    "papermill": {
     "duration": 0.021203,
     "end_time": "2025-07-30T20:12:09.830423",
     "exception": false,
     "start_time": "2025-07-30T20:12:09.809220",
     "status": "completed"
    },
    "tags": []
   },
   "outputs": [
    {
     "data": {
      "text/plain": [
       "payment method\n",
       "Digital Wallet    2106\n",
       "Credit Card       2091\n",
       "Cash              2085\n",
       "ERROR              280\n",
       "UNKNOWN            269\n",
       "Name: count, dtype: int64"
      ]
     },
     "execution_count": 18,
     "metadata": {},
     "output_type": "execute_result"
    }
   ],
   "source": [
    "data['payment method'].value_counts()"
   ]
  },
  {
   "cell_type": "code",
   "execution_count": 19,
   "id": "3a32afd0",
   "metadata": {
    "execution": {
     "iopub.execute_input": "2025-07-30T20:12:09.846526Z",
     "iopub.status.busy": "2025-07-30T20:12:09.846199Z",
     "iopub.status.idle": "2025-07-30T20:12:09.855568Z",
     "shell.execute_reply": "2025-07-30T20:12:09.854588Z"
    },
    "papermill": {
     "duration": 0.019802,
     "end_time": "2025-07-30T20:12:09.857628",
     "exception": false,
     "start_time": "2025-07-30T20:12:09.837826",
     "status": "completed"
    },
    "tags": []
   },
   "outputs": [],
   "source": [
    "data = data[~data['payment method'].isin(['ERROR'])]\n",
    "data['payment method'] = data['payment method'].replace('UNKNOWN', pd.NA)"
   ]
  },
  {
   "cell_type": "code",
   "execution_count": 20,
   "id": "35fcc8ea",
   "metadata": {
    "execution": {
     "iopub.execute_input": "2025-07-30T20:12:09.873702Z",
     "iopub.status.busy": "2025-07-30T20:12:09.873389Z",
     "iopub.status.idle": "2025-07-30T20:12:09.882475Z",
     "shell.execute_reply": "2025-07-30T20:12:09.881434Z"
    },
    "papermill": {
     "duration": 0.018958,
     "end_time": "2025-07-30T20:12:09.884029",
     "exception": false,
     "start_time": "2025-07-30T20:12:09.865071",
     "status": "completed"
    },
    "tags": []
   },
   "outputs": [
    {
     "data": {
      "text/plain": [
       "location\n",
       "Takeaway    2708\n",
       "In-store    2697\n",
       "ERROR        320\n",
       "UNKNOWN      302\n",
       "Name: count, dtype: int64"
      ]
     },
     "execution_count": 20,
     "metadata": {},
     "output_type": "execute_result"
    }
   ],
   "source": [
    "data['location'].value_counts()"
   ]
  },
  {
   "cell_type": "code",
   "execution_count": 21,
   "id": "04f41d09",
   "metadata": {
    "execution": {
     "iopub.execute_input": "2025-07-30T20:12:09.900701Z",
     "iopub.status.busy": "2025-07-30T20:12:09.900367Z",
     "iopub.status.idle": "2025-07-30T20:12:09.911137Z",
     "shell.execute_reply": "2025-07-30T20:12:09.909806Z"
    },
    "papermill": {
     "duration": 0.022487,
     "end_time": "2025-07-30T20:12:09.914057",
     "exception": false,
     "start_time": "2025-07-30T20:12:09.891570",
     "status": "completed"
    },
    "tags": []
   },
   "outputs": [],
   "source": [
    "data = data[~data['location'].isin(['ERROR'])]\n",
    "data['location'] = data['location'].replace('UNKNOWN', pd.NA)"
   ]
  },
  {
   "cell_type": "code",
   "execution_count": 22,
   "id": "6949acf1",
   "metadata": {
    "execution": {
     "iopub.execute_input": "2025-07-30T20:12:09.932069Z",
     "iopub.status.busy": "2025-07-30T20:12:09.931280Z",
     "iopub.status.idle": "2025-07-30T20:12:09.943206Z",
     "shell.execute_reply": "2025-07-30T20:12:09.942103Z"
    },
    "papermill": {
     "duration": 0.02397,
     "end_time": "2025-07-30T20:12:09.946559",
     "exception": false,
     "start_time": "2025-07-30T20:12:09.922589",
     "status": "completed"
    },
    "tags": []
   },
   "outputs": [
    {
     "data": {
      "text/plain": [
       "transaction date\n",
       "UNKNOWN       140\n",
       "ERROR         125\n",
       "2023-08-07     36\n",
       "2023-09-21     34\n",
       "2023-07-21     34\n",
       "             ... \n",
       "2023-04-26     13\n",
       "2023-11-24     13\n",
       "2023-02-17     12\n",
       "2023-04-22     12\n",
       "2023-04-27     11\n",
       "Name: count, Length: 367, dtype: int64"
      ]
     },
     "execution_count": 22,
     "metadata": {},
     "output_type": "execute_result"
    }
   ],
   "source": [
    "data['transaction date'].value_counts()"
   ]
  },
  {
   "cell_type": "code",
   "execution_count": 23,
   "id": "fed0a679",
   "metadata": {
    "execution": {
     "iopub.execute_input": "2025-07-30T20:12:09.968961Z",
     "iopub.status.busy": "2025-07-30T20:12:09.968607Z",
     "iopub.status.idle": "2025-07-30T20:12:09.979343Z",
     "shell.execute_reply": "2025-07-30T20:12:09.978331Z"
    },
    "papermill": {
     "duration": 0.025506,
     "end_time": "2025-07-30T20:12:09.982217",
     "exception": false,
     "start_time": "2025-07-30T20:12:09.956711",
     "status": "completed"
    },
    "tags": []
   },
   "outputs": [],
   "source": [
    "data = data[~data['transaction date'].isin(['ERROR'])]\n",
    "data['transaction date'] = data['transaction date'].replace('UNKNOWN', pd.NA)"
   ]
  },
  {
   "cell_type": "markdown",
   "id": "651d0f0c",
   "metadata": {
    "papermill": {
     "duration": 0.010819,
     "end_time": "2025-07-30T20:12:10.003688",
     "exception": false,
     "start_time": "2025-07-30T20:12:09.992869",
     "status": "completed"
    },
    "tags": []
   },
   "source": [
    "## 2. Working with missing values"
   ]
  },
  {
   "cell_type": "code",
   "execution_count": 24,
   "id": "caed2ddc",
   "metadata": {
    "execution": {
     "iopub.execute_input": "2025-07-30T20:12:10.025440Z",
     "iopub.status.busy": "2025-07-30T20:12:10.025017Z",
     "iopub.status.idle": "2025-07-30T20:12:10.037636Z",
     "shell.execute_reply": "2025-07-30T20:12:10.036370Z"
    },
    "papermill": {
     "duration": 0.025982,
     "end_time": "2025-07-30T20:12:10.039960",
     "exception": false,
     "start_time": "2025-07-30T20:12:10.013978",
     "status": "completed"
    },
    "tags": []
   },
   "outputs": [
    {
     "data": {
      "text/plain": [
       "item                 590\n",
       "quantity             269\n",
       "price per unit       299\n",
       "total spent          291\n",
       "payment method      2516\n",
       "location            3158\n",
       "transaction date     282\n",
       "dtype: int64"
      ]
     },
     "execution_count": 24,
     "metadata": {},
     "output_type": "execute_result"
    }
   ],
   "source": [
    "data.isna().sum()"
   ]
  },
  {
   "cell_type": "code",
   "execution_count": 25,
   "id": "320b3721",
   "metadata": {
    "execution": {
     "iopub.execute_input": "2025-07-30T20:12:10.155479Z",
     "iopub.status.busy": "2025-07-30T20:12:10.155075Z",
     "iopub.status.idle": "2025-07-30T20:12:10.187254Z",
     "shell.execute_reply": "2025-07-30T20:12:10.185303Z"
    },
    "papermill": {
     "duration": 0.045797,
     "end_time": "2025-07-30T20:12:10.189689",
     "exception": false,
     "start_time": "2025-07-30T20:12:10.143892",
     "status": "completed"
    },
    "tags": []
   },
   "outputs": [],
   "source": [
    "for column in data.columns:\n",
    "    moda= data[column].mode()\n",
    "    if not moda.empty:\n",
    "        data[column] = data[column].fillna(moda[0])"
   ]
  },
  {
   "cell_type": "code",
   "execution_count": 26,
   "id": "1a19ac04",
   "metadata": {
    "execution": {
     "iopub.execute_input": "2025-07-30T20:12:10.209870Z",
     "iopub.status.busy": "2025-07-30T20:12:10.209542Z",
     "iopub.status.idle": "2025-07-30T20:12:10.223555Z",
     "shell.execute_reply": "2025-07-30T20:12:10.222128Z"
    },
    "papermill": {
     "duration": 0.027821,
     "end_time": "2025-07-30T20:12:10.226141",
     "exception": false,
     "start_time": "2025-07-30T20:12:10.198320",
     "status": "completed"
    },
    "tags": []
   },
   "outputs": [
    {
     "data": {
      "text/plain": [
       "item                0\n",
       "quantity            0\n",
       "price per unit      0\n",
       "total spent         0\n",
       "payment method      0\n",
       "location            0\n",
       "transaction date    0\n",
       "dtype: int64"
      ]
     },
     "execution_count": 26,
     "metadata": {},
     "output_type": "execute_result"
    }
   ],
   "source": [
    "data.isna().sum()"
   ]
  },
  {
   "cell_type": "code",
   "execution_count": 27,
   "id": "3581e6c5",
   "metadata": {
    "execution": {
     "iopub.execute_input": "2025-07-30T20:12:10.246354Z",
     "iopub.status.busy": "2025-07-30T20:12:10.245991Z",
     "iopub.status.idle": "2025-07-30T20:12:10.265843Z",
     "shell.execute_reply": "2025-07-30T20:12:10.264307Z"
    },
    "papermill": {
     "duration": 0.033678,
     "end_time": "2025-07-30T20:12:10.268540",
     "exception": false,
     "start_time": "2025-07-30T20:12:10.234862",
     "status": "completed"
    },
    "tags": []
   },
   "outputs": [],
   "source": [
    "data.drop_duplicates(keep='last', inplace=True)"
   ]
  },
  {
   "cell_type": "code",
   "execution_count": 28,
   "id": "1a261a16",
   "metadata": {
    "execution": {
     "iopub.execute_input": "2025-07-30T20:12:10.289329Z",
     "iopub.status.busy": "2025-07-30T20:12:10.288790Z",
     "iopub.status.idle": "2025-07-30T20:12:10.305330Z",
     "shell.execute_reply": "2025-07-30T20:12:10.303874Z"
    },
    "papermill": {
     "duration": 0.028975,
     "end_time": "2025-07-30T20:12:10.307594",
     "exception": false,
     "start_time": "2025-07-30T20:12:10.278619",
     "status": "completed"
    },
    "tags": []
   },
   "outputs": [],
   "source": [
    "data['quantity'] = data['quantity'].astype(int)\n",
    "data['price per unit'] = data['price per unit'].astype(float)\n",
    "data['total spent'] = data['total spent'].astype(float)\n",
    "data['transaction date'] = data['transaction date'].astype('datetime64[ns]')"
   ]
  },
  {
   "cell_type": "markdown",
   "id": "ef726729",
   "metadata": {
    "papermill": {
     "duration": 0.008995,
     "end_time": "2025-07-30T20:12:10.326106",
     "exception": false,
     "start_time": "2025-07-30T20:12:10.317111",
     "status": "completed"
    },
    "tags": []
   },
   "source": [
    "## 3. Analysis the data distribution"
   ]
  },
  {
   "cell_type": "code",
   "execution_count": 29,
   "id": "01752f46",
   "metadata": {
    "execution": {
     "iopub.execute_input": "2025-07-30T20:12:10.346499Z",
     "iopub.status.busy": "2025-07-30T20:12:10.346203Z",
     "iopub.status.idle": "2025-07-30T20:12:11.157634Z",
     "shell.execute_reply": "2025-07-30T20:12:11.156581Z"
    },
    "papermill": {
     "duration": 0.823398,
     "end_time": "2025-07-30T20:12:11.159445",
     "exception": false,
     "start_time": "2025-07-30T20:12:10.336047",
     "status": "completed"
    },
    "tags": []
   },
   "outputs": [
    {
     "data": {
      "image/png": "[encoded data removed]",
      "text/plain": [
       "<Figure size 2000x500 with 3 Axes>"
      ]
     },
     "metadata": {},
     "output_type": "display_data"
    }
   ],
   "source": [
    "data_cat = data[['item', 'payment method', 'location']]\n",
    "\n",
    "plt.figure(figsize=(20, 5))\n",
    "\n",
    "plt.subplot(1, 3, 1)\n",
    "sns.countplot(data=data_cat, x='item')\n",
    "plt.title('Распределение item')\n",
    "\n",
    "plt.subplot(1, 3, 2)\n",
    "sns.countplot(data=data_cat, x='payment method')\n",
    "plt.title('Распределение payment method')\n",
    "\n",
    "plt.subplot(1, 3, 3)\n",
    "sns.countplot(data=data_cat, x='location')\n",
    "plt.title('Распределение location')\n",
    "\n",
    "plt.tight_layout()\n",
    "plt.show()"
   ]
  },
  {
   "cell_type": "code",
   "execution_count": 30,
   "id": "c5ab08e6",
   "metadata": {
    "execution": {
     "iopub.execute_input": "2025-07-30T20:12:11.178999Z",
     "iopub.status.busy": "2025-07-30T20:12:11.178686Z",
     "iopub.status.idle": "2025-07-30T20:12:11.185020Z",
     "shell.execute_reply": "2025-07-30T20:12:11.183785Z"
    },
    "papermill": {
     "duration": 0.017856,
     "end_time": "2025-07-30T20:12:11.186707",
     "exception": false,
     "start_time": "2025-07-30T20:12:11.168851",
     "status": "completed"
    },
    "tags": []
   },
   "outputs": [],
   "source": [
    "data_num = data[['quantity', 'price per unit', 'total spent']]"
   ]
  },
  {
   "cell_type": "code",
   "execution_count": 31,
   "id": "da0de0a5",
   "metadata": {
    "execution": {
     "iopub.execute_input": "2025-07-30T20:12:11.206497Z",
     "iopub.status.busy": "2025-07-30T20:12:11.206207Z",
     "iopub.status.idle": "2025-07-30T20:12:12.147656Z",
     "shell.execute_reply": "2025-07-30T20:12:12.146639Z"
    },
    "papermill": {
     "duration": 0.954108,
     "end_time": "2025-07-30T20:12:12.149804",
     "exception": false,
     "start_time": "2025-07-30T20:12:11.195696",
     "status": "completed"
    },
    "tags": []
   },
   "outputs": [
    {
     "name": "stderr",
     "output_type": "stream",
     "text": [
      "/usr/local/lib/python3.11/dist-packages/seaborn/_oldcore.py:1119: FutureWarning: use_inf_as_na option is deprecated and will be removed in a future version. Convert inf values to NaN before operating instead.\n",
      "  with pd.option_context('mode.use_inf_as_na', True):\n",
      "/usr/local/lib/python3.11/dist-packages/seaborn/_oldcore.py:1119: FutureWarning: use_inf_as_na option is deprecated and will be removed in a future version. Convert inf values to NaN before operating instead.\n",
      "  with pd.option_context('mode.use_inf_as_na', True):\n",
      "/usr/local/lib/python3.11/dist-packages/seaborn/_oldcore.py:1119: FutureWarning: use_inf_as_na option is deprecated and will be removed in a future version. Convert inf values to NaN before operating instead.\n",
      "  with pd.option_context('mode.use_inf_as_na', True):\n"
     ]
    },
    {
     "data": {
      "image/png": "[encoded data removed]",
      "text/plain": [
       "<Figure size 2000x500 with 3 Axes>"
      ]
     },
     "metadata": {},
     "output_type": "display_data"
    }
   ],
   "source": [
    "plt.figure(figsize=(20, 5))\n",
    "\n",
    "plt.subplot(1, 3, 1)\n",
    "sns.histplot(data=data_num, x='quantity', bins=10, kde=True)\n",
    "plt.title('Распределение Quantity')\n",
    "\n",
    "plt.subplot(1, 3, 2)\n",
    "sns.histplot(data=data_num, x='price per unit', bins=10, kde=True)\n",
    "plt.title('Распределение Price per Unit')\n",
    "\n",
    "plt.subplot(1, 3, 3)\n",
    "sns.histplot(data=data_num, x='total spent', bins=10, kde=True)\n",
    "plt.title('Распределение Total Spent')\n",
    "\n",
    "plt.tight_layout()\n",
    "plt.show()"
   ]
  },
  {
   "cell_type": "code",
   "execution_count": 32,
   "id": "96c19685",
   "metadata": {
    "execution": {
     "iopub.execute_input": "2025-07-30T20:12:12.176921Z",
     "iopub.status.busy": "2025-07-30T20:12:12.176333Z",
     "iopub.status.idle": "2025-07-30T20:12:12.644332Z",
     "shell.execute_reply": "2025-07-30T20:12:12.643419Z"
    },
    "papermill": {
     "duration": 0.483232,
     "end_time": "2025-07-30T20:12:12.645942",
     "exception": false,
     "start_time": "2025-07-30T20:12:12.162710",
     "status": "completed"
    },
    "tags": []
   },
   "outputs": [
    {
     "name": "stderr",
     "output_type": "stream",
     "text": [
      "/usr/local/lib/python3.11/dist-packages/seaborn/_oldcore.py:1119: FutureWarning: use_inf_as_na option is deprecated and will be removed in a future version. Convert inf values to NaN before operating instead.\n",
      "  with pd.option_context('mode.use_inf_as_na', True):\n"
     ]
    },
    {
     "data": {
      "image/png": "[encoded data removed]",
      "text/plain": [
       "<Figure size 640x480 with 1 Axes>"
      ]
     },
     "metadata": {},
     "output_type": "display_data"
    }
   ],
   "source": [
    "data['transaction date'] = pd.to_datetime(data['transaction date'])\n",
    "\n",
    "sns.histplot(data['transaction date'], bins=30, kde=True)\n",
    "plt.title('Распределение дат')\n",
    "plt.xlabel('Дата')\n",
    "plt.ylabel('Частота')\n",
    "\n",
    "plt.xticks(rotation=45)\n",
    "plt.tight_layout()\n",
    "plt.show()"
   ]
  },
  {
   "cell_type": "markdown",
   "id": "ebd1f090",
   "metadata": {
    "papermill": {
     "duration": 0.013789,
     "end_time": "2025-07-30T20:12:12.672060",
     "exception": false,
     "start_time": "2025-07-30T20:12:12.658271",
     "status": "completed"
    },
    "tags": []
   },
   "source": [
    "## 4. Data outliers"
   ]
  },
  {
   "cell_type": "code",
   "execution_count": 33,
   "id": "f563e085",
   "metadata": {
    "execution": {
     "iopub.execute_input": "2025-07-30T20:12:12.698930Z",
     "iopub.status.busy": "2025-07-30T20:12:12.698400Z",
     "iopub.status.idle": "2025-07-30T20:12:12.723596Z",
     "shell.execute_reply": "2025-07-30T20:12:12.722422Z"
    },
    "papermill": {
     "duration": 0.041045,
     "end_time": "2025-07-30T20:12:12.725674",
     "exception": false,
     "start_time": "2025-07-30T20:12:12.684629",
     "status": "completed"
    },
    "tags": []
   },
   "outputs": [
    {
     "name": "stdout",
     "output_type": "stream",
     "text": [
      "количество выбросов 0\n",
      "количество выбросов 0\n",
      "количество выбросов 0\n"
     ]
    }
   ],
   "source": [
    "for column in data_num:\n",
    "    Q1 = data[column].quantile(0.25)\n",
    "    Q3 = data[column].quantile(0.75)\n",
    "    IQR = Q3 - Q1\n",
    "\n",
    "    lower_bound = Q1 - 1.5 * IQR\n",
    "    upper_bound = Q3 + 1.5 * IQR\n",
    "\n",
    "    data[column] = data[column].clip(lower=lower_bound, upper=upper_bound)\n",
    "\n",
    "    outliers_after = data[(data[column] < lower_bound) | (data[column] > upper_bound)]\n",
    "    print(\"количество выбросов\", outliers_after.shape[0])"
   ]
  },
  {
   "cell_type": "markdown",
   "id": "1a135f1e",
   "metadata": {
    "papermill": {
     "duration": 0.012571,
     "end_time": "2025-07-30T20:12:12.750041",
     "exception": false,
     "start_time": "2025-07-30T20:12:12.737470",
     "status": "completed"
    },
    "tags": []
   },
   "source": [
    "## 5. Correlation"
   ]
  },
  {
   "cell_type": "code",
   "execution_count": 34,
   "id": "07c85b92",
   "metadata": {
    "execution": {
     "iopub.execute_input": "2025-07-30T20:12:12.777359Z",
     "iopub.status.busy": "2025-07-30T20:12:12.776021Z",
     "iopub.status.idle": "2025-07-30T20:12:12.784803Z",
     "shell.execute_reply": "2025-07-30T20:12:12.783702Z"
    },
    "papermill": {
     "duration": 0.023988,
     "end_time": "2025-07-30T20:12:12.786592",
     "exception": false,
     "start_time": "2025-07-30T20:12:12.762604",
     "status": "completed"
    },
    "tags": []
   },
   "outputs": [],
   "source": [
    "correlation_matrix = data_num.corr()"
   ]
  },
  {
   "cell_type": "code",
   "execution_count": 35,
   "id": "1b5ff1fc",
   "metadata": {
    "execution": {
     "iopub.execute_input": "2025-07-30T20:12:12.814998Z",
     "iopub.status.busy": "2025-07-30T20:12:12.814679Z",
     "iopub.status.idle": "2025-07-30T20:12:13.073737Z",
     "shell.execute_reply": "2025-07-30T20:12:13.072905Z"
    },
    "papermill": {
     "duration": 0.275884,
     "end_time": "2025-07-30T20:12:13.075318",
     "exception": false,
     "start_time": "2025-07-30T20:12:12.799434",
     "status": "completed"
    },
    "tags": []
   },
   "outputs": [
    {
     "data": {
      "image/png": "[encoded data removed]",
      "text/plain": [
       "<Figure size 800x600 with 2 Axes>"
      ]
     },
     "metadata": {},
     "output_type": "display_data"
    }
   ],
   "source": [
    "plt.figure(figsize=(8, 6))\n",
    "\n",
    "sns.heatmap(correlation_matrix, annot=True, fmt=\".2f\", cmap='coolwarm', square=True, cbar_kws={\"shrink\": .8})\n",
    "\n",
    "plt.title('Тепловая карта корреляции')\n",
    "plt.xticks(rotation=45)\n",
    "plt.yticks(rotation=45)\n",
    "\n",
    "plt.tight_layout()\n",
    "plt.show()"
   ]
  }
 ],
 "metadata": {
  "kaggle": {
   "accelerator": "none",
   "dataSources": [
    {
     "datasetId": 6501209,
     "sourceId": 10500284,
     "sourceType": "datasetVersion"
    }
   ],
   "dockerImageVersionId": 31089,
   "isGpuEnabled": false,
   "isInternetEnabled": false,
   "language": "python",
   "sourceType": "notebook"
  },
  "kernelspec": {
   "display_name": "Python 3",
   "language": "python",
   "name": "python3"
  },
  "language_info": {
   "codemirror_mode": {
    "name": "ipython",
    "version": 3
   },
   "file_extension": ".py",
   "mimetype": "text/x-python",
   "name": "python",
   "nbconvert_exporter": "python",
   "pygments_lexer": "ipython3",
   "version": "3.11.13"
  },
  "papermill": {
   "default_parameters": {},
   "duration": 15.337929,
   "end_time": "2025-07-30T20:12:13.911730",
   "environment_variables": {},
   "exception": null,
   "input_path": "__notebook__.ipynb",
   "output_path": "__notebook__.ipynb",
   "parameters": {},
   "start_time": "2025-07-30T20:11:58.573801",
   "version": "2.6.0"
  }
 },
 "nbformat": 4,
 "nbformat_minor": 5
}
